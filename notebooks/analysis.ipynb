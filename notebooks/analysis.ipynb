{
 "cells": [
  {
   "cell_type": "code",
   "execution_count": null,
   "metadata": {
    "vscode": {
     "languageId": "plaintext"
    }
   },
   "outputs": [],
   "source": [
    "# 분석 예시 (notebooks/analysis.ipynb)\n",
    "\n",
    "import os\n",
    "import pandas as pd\n",
    "import matplotlib.pyplot as plt\n",
    "\n",
    "log_file = os.path.join(\"logs\", \"ppo\", \"HopperBulletEnv-v0_1\", \"monitor.csv\")\n",
    "\n",
    "df = pd.read_csv(log_file, comment='#')\n",
    "df['Episode'] = range(1, len(df)+1)\n",
    "\n",
    "plt.plot(df['Episode'], df['r'])\n",
    "plt.xlabel(\"Episode\")\n",
    "plt.ylabel(\"Reward\")\n",
    "plt.title(\"HopperBulletEnv Training Reward\")\n",
    "plt.show()\n"
   ]
  }
 ],
 "metadata": {
  "language_info": {
   "name": "python"
  }
 },
 "nbformat": 4,
 "nbformat_minor": 2
}
